{
 "cells": [
  {
   "cell_type": "markdown",
   "metadata": {},
   "source": [
    "# Writing Functions in Python\n",
    "**by [Richard W. Evans](https://sites.google.com/site/rickecon/), Nov. 2016**\n",
    "\n",
    "Python has many [built-in functions](https://docs.python.org/3.3/library/functions.html). Functions are objects that accept a specific set of inputs, perform operations on those inputs, and return a set of outputs based on those inputs. Python is a language that focuses on functions, especially in versions 3.x versus 2.x. Further, the importing of packages expands the set of functions available to the user.\n",
    "\n",
    "In this notebook, we learn the basics of writing a function in Python, some best practices about docstrings and documentation, and some of the art of using functions to make your code modular. **Modularity** of code is the principle of writing functions for operations that occur multiple times so that a change to that operation only has to be changed once in the code rather than in every instance of the operation. Furthermore, the principle of code modularity also make it easier to take pieces of your code and plug them into other projects as well as combining other projects with your code."
   ]
  },
  {
   "cell_type": "markdown",
   "metadata": {},
   "source": [
    "## 1. The form of a Python function\n",
    "You can define a function in a Python module or script by using the `def` keyword followed by the function name, a parenthesized list of inputs, and a colon `:`. You then include the operations you want your function to perform by typing lines of executable code, each of which begins with an indent of four spaces. Finally, if you want your function to return any objects, those objects are listed in a comma-separated list following the `return` keyword as the last indented line of the function.\n",
    "\n",
    "The following function concatenates two strings into one string."
   ]
  },
  {
   "cell_type": "code",
   "execution_count": 1,
   "metadata": {
    "collapsed": false
   },
   "outputs": [
    {
     "data": {
      "text/plain": [
       "'Rick Evans'"
      ]
     },
     "execution_count": 1,
     "metadata": {},
     "output_type": "execute_result"
    }
   ],
   "source": [
    "def string2together(str1, str2):\n",
    "    '''\n",
    "    --------------------------------------------------------------------\n",
    "    This function concatenates two strings as one string with a space\n",
    "    separating them.\n",
    "    --------------------------------------------------------------------\n",
    "    INPUTS:\n",
    "    str1 = string, first string argument passed into function\n",
    "    str2 = string, second string argument passed into function\n",
    "    \n",
    "    OTHER FUNCTIONS AND FILES CALLED BY THIS FUNCTION: None\n",
    "    \n",
    "    OBJECTS CREATED WITHIN THIS FUNCTION:\n",
    "    big_string = string, combination of str1 and str2 with a space\n",
    "                 between them\n",
    "    \n",
    "    FILES CREATED BY THIS FUNCTION: None\n",
    "    \n",
    "    RETURNS: big_string\n",
    "    --------------------------------------------------------------------\n",
    "    '''\n",
    "    big_string = str1 + ' ' + str2\n",
    "    return big_string\n",
    "\n",
    "myfirstname = \"Rick\"\n",
    "mylastname = \"Evans\"\n",
    "\n",
    "fullname = string2together(myfirstname, mylastname)\n",
    "fullname"
   ]
  },
  {
   "cell_type": "markdown",
   "metadata": {},
   "source": [
    "Note first how extensive the documentation is for this function. The function `string2together` has only two lines of executable code in it. The rest is docstring. We will talk about docstrings and commenting more in Section 3 of this notebook.\n",
    "\n",
    "Also note that we could have written that function `string2together` with only one line of executable code by combining the two lines in the following way: `return str1 + ' ' + str2`. It is best to keep the return statement clean by only returning objects that have already been created in the body of the function. This makes the function's operation more accessible and transparent.\n",
    "\n",
    "Note that, despite the simplicity, this function would be extremely valuable if it were used multiple times in a bigger set of operations. Imagine a process that concatenated two strings with a space in between many times. Now assume you wanted to change some of those instances to be reversed order with a comma separating them. This could be done quickly by changing the one instance of this function rather than each time the operation is called. More on this in Section 4 on modularity."
   ]
  },
  {
   "cell_type": "markdown",
   "metadata": {},
   "source": [
    "## 2. Some Python function workflows\n",
    "asdf"
   ]
  },
  {
   "cell_type": "markdown",
   "metadata": {},
   "source": [
    "### 2.1 Modules and scripts\n",
    "This approach separates the top-level operations (such as the declaration of exogenous parameter values or analysis of results) from the operations that generate the results. In this approach all declaration of parameter values and final analysis of results is done in a Python script (e.g., `script.py`). The script has no function definitions. It only calls the functions it must use from the module.\n",
    "\n",
    "The module is a Python script (e.g., `module.py`) that does not execute any operations on its own. The module is simply a collection of function definitions that can be imported into other scripts or modules. The following pseudocode is an example of a script.\n",
    "```python\n",
    "import whateverlibraries as wel\n",
    "import module as mod\n",
    "...\n",
    "# Declare parameter values and any other stuff\n",
    "...\n",
    "# Call some functions from module.py\n",
    "val1 = md.func1(val2, val3)\n",
    "val4 = md.func2(val5, val1)\n",
    "```\n",
    "The module `module.py` has at least two functions defined in it: `func1` and `func2`. By having these functions imported from the module, they can be differentiated by the `md.` prefix from other functions from other modules or from the script itself that might have the same name."
   ]
  },
  {
   "cell_type": "markdown",
   "metadata": {},
   "source": [
    "### 2.2 Scripts with \"if __name__ == '__main__':\"\n",
    "Suppose you write a module that has in it only functions. You can place the `if __name__ == '__main__':` construct at the end of the module, and every command indented underneath it will execute when the module is run as a script. `'__main__'` is the name of the scope in which top-level code executes.\n",
    "```python\n",
    "# This code is part of a module entitled 'module1.py'\n",
    "\n",
    "def simplesum(val1, val2):\n",
    "    the_sum = val1 + val2\n",
    "    return the_sum\n",
    "\n",
    "if __name__ == \"__main__\":\n",
    "    # execute only if run as a script\n",
    "    myheight = 5.9\n",
    "    mydadsheight = 6.0\n",
    "    tot_height = simplesum(myheight, mydadsheight)\n",
    "```\n",
    "You could execute the code that calculates the variable `tot_height` by running `module1.py` as a script (typing `python module1.py` from the terminal or `run module1.py` from ipython).\n",
    "\n",
    "This method is often prefered to having functions and executable script lines in the same function as is described in Section 2.3. The reason is that, in this method using the `if __name__ == '__main__':` construct, all the commands are inside of functions."
   ]
  },
  {
   "cell_type": "markdown",
   "metadata": {},
   "source": [
    "### 2.3 Functions and executable commands in script\n",
    "You can declare functions and run executable lines outside of functions in the same script. This is commonly done in small projects, although many developers feel that following the method from Section 2.2 is a better practice."
   ]
  },
  {
   "cell_type": "code",
   "execution_count": 2,
   "metadata": {
    "collapsed": false
   },
   "outputs": [
    {
     "data": {
      "text/plain": [
       "11.9"
      ]
     },
     "execution_count": 2,
     "metadata": {},
     "output_type": "execute_result"
    }
   ],
   "source": [
    "import numpy as np\n",
    "\n",
    "# Declare parameters\n",
    "myheight = 5.9\n",
    "mydadsheight = 6.0\n",
    "\n",
    "def simplesum(val1, val2):\n",
    "    the_sum = val1 + val2\n",
    "    return the_sum\n",
    "\n",
    "tot_height = simplesum(myheight, mydadsheight)\n",
    "tot_height"
   ]
  },
  {
   "cell_type": "markdown",
   "metadata": {},
   "source": [
    "## 3. Function documentation\n",
    "Every function should be well documented. The form of exact function docstrings has not yet been fully regularized in the Python community, but some key principles apply. It is ideal to give carefully organized and easily accessible information in your docstrings and in-line comments such that an outside user can quickly understand what your function is doing.\n",
    "\n",
    "Good documentation can save you time in the long-run (but almost certainly not in the short run) by giving a nice roadmap for debugging code later on if a problem arises. Furthermore, you might sometimes forget what you were originally trying to do with a particular piece of code, and the documentation will remind you. Lastly, well-documented code is essential for other researchers to be able to collaborate with you.\n",
    "\n",
    "Comments in the code are descriptive lines that are not executed by the interpreter. You can comment code in three ways. Brackets of three double quotes `\"\"\" \"\"\"` or brackets of three single quotes `''' '''` will comment out large blocks of text. The pound sign `#` will comment out a single line of text or a partial line of text."
   ]
  },
  {
   "cell_type": "code",
   "execution_count": null,
   "metadata": {
    "collapsed": false
   },
   "outputs": [],
   "source": [
    "print(3 + 7)\n",
    "# print(\"You're not the best!\")\n",
    "print(\"You're the best!\")"
   ]
  },
  {
   "cell_type": "code",
   "execution_count": null,
   "metadata": {
    "collapsed": false
   },
   "outputs": [],
   "source": [
    "'''\n",
    "In the following code snippet, I will\n",
    "print out what most other people think\n",
    "of me. But I might want to change it\n",
    "by uncommenting and commenting out particular\n",
    "lines.\n",
    "'''\n",
    "print(\"You're the best.\")\n",
    "# print(\"You're not the best.\")"
   ]
  },
  {
   "cell_type": "markdown",
   "metadata": {},
   "source": [
    "### 3.1 The function docstring\n",
    "The function docstring is a block of text commented out by three bracketing quotes `''' '''` or `\"\"\" \"\"\"`. Docstrings that immediately follow a function are often brought up as the automatic function help or description in advanced text editors and ipython development environments (IDEs). As such, the docstring is an essential description and roadmap for a function. Below is an example of a function that takes as an input a scalar that represents the number of seconds some procedure took."
   ]
  },
  {
   "cell_type": "code",
   "execution_count": 3,
   "metadata": {
    "collapsed": false
   },
   "outputs": [
    {
     "name": "stdout",
     "output_type": "stream",
     "text": [
      "Simulation computation time: 1 days, 3 hrs, 26 min, 5.0 sec\n"
     ]
    }
   ],
   "source": [
    "def print_time(seconds, type):\n",
    "    '''\n",
    "    --------------------------------------------------------------------\n",
    "    Takes a total amount of time in seconds and prints it in terms of\n",
    "    more readable units (days, hours, minutes, seconds)\n",
    "    --------------------------------------------------------------------\n",
    "    INPUTS:\n",
    "    seconds = scalar > 0, total amount of seconds\n",
    "    type = string, description of the type of computation\n",
    "\n",
    "    OTHER FUNCTIONS AND FILES CALLED BY THIS FUNCTION:\n",
    "\n",
    "    OBJECTS CREATED WITHIN FUNCTION:\n",
    "    secs = scalar > 0, remainder number of seconds\n",
    "    mins = integer >= 1, remainder number of minutes\n",
    "    hrs  = integer >= 1, remainder number of hours\n",
    "    days = integer >= 1, number of days\n",
    "\n",
    "    FILES CREATED BY THIS FUNCTION: None\n",
    "\n",
    "    RETURNS: Nothing\n",
    "    --------------------------------------------------------------------\n",
    "    '''\n",
    "    if seconds < 60:  # seconds\n",
    "        secs = round(seconds, 4)\n",
    "        print(type + ' computation time: ' + str(secs) + ' sec')\n",
    "    elif seconds >= 60 and seconds < 3600:  # minutes\n",
    "        mins = int(seconds / 60)\n",
    "        secs = round(((seconds / 60) - mins) * 60, 1)\n",
    "        print(type + ' computation time: ' + str(mins) + ' min, ' +\n",
    "              str(secs) + ' sec')\n",
    "    elif seconds >= 3600 and seconds < 86400:  # hours\n",
    "        hrs = int(seconds / 3600)\n",
    "        mins = int(((seconds / 3600) - hrs) * 60)\n",
    "        secs = round(((seconds / 60) - hrs * 60 - mins) * 60, 1)\n",
    "        print(type + ' computation time: ' + str(hrs) + ' hrs, ' +\n",
    "              str(mins) + ' min, ' + str(secs) + ' sec')\n",
    "    elif seconds >= 86400:  # days\n",
    "        days = int(seconds / 86400)\n",
    "        hrs = int(((seconds / 86400) - days) * 24)\n",
    "        mins = int(((seconds / 3600) - days * 24 - hrs) * 60)\n",
    "        secs = round(\n",
    "            ((seconds / 60) - days * 24 * 60 - hrs * 60 - mins) * 60, 1)\n",
    "        print(type + ' computation time: ' + str(days) + ' days, ' +\n",
    "              str(hrs) + ' hrs, ' + str(mins) + ' min, ' +\n",
    "              str(secs) + ' sec')\n",
    "\n",
    "print_time(98765, 'Simulation')"
   ]
  },
  {
   "cell_type": "markdown",
   "metadata": {},
   "source": [
    "Notice the docstring after the definition line of the function. It starts out with a general description of what the function does. Then it describes the inputs to the function, any other functions that this function calls, any objects created by this function, any files saved by this function, and the objects that the function returns. In this case, the function does not return any objects. It just prints output to the terminal.\n",
    "\n",
    "You will also notice the in-line comments after each `if` statement. These comments describe what particular sections of the code are doing."
   ]
  },
  {
   "cell_type": "markdown",
   "metadata": {},
   "source": [
    "### 3.2 In-line comments\n",
    "You see examples of in-line comments in the `print_time()` function above. In-line comments can be helpful for describing the flow of operations or logic within a function. They act as road signs along the way to a functions completion."
   ]
  },
  {
   "cell_type": "markdown",
   "metadata": {},
   "source": [
    "## 4. Function modularity\n",
    "A principle in writing Python code is to make functions for each piece that gets used multiple times. This is where the art of good code writing is evident. Here are some questions that the developer must answer.\n",
    "1. How many times must an operation be repeated before it merits its own function?\n",
    "2. How complicated must an operation be to merit its own function?\n",
    "3. Which groups of operations are best grouped together as functions?"
   ]
  },
  {
   "cell_type": "markdown",
   "metadata": {},
   "source": [
    "## 5. Lambda functions\n",
    "\n",
    "The keyword `lambda` is a shortcut for creating one-line functions in Python."
   ]
  },
  {
   "cell_type": "code",
   "execution_count": 4,
   "metadata": {
    "collapsed": false
   },
   "outputs": [
    {
     "data": {
      "text/plain": [
       "6393"
      ]
     },
     "execution_count": 4,
     "metadata": {},
     "output_type": "execute_result"
    }
   ],
   "source": [
    "f = lambda x: 6 * (x ** 3) + 4 * (x ** 2) - x + 3\n",
    "f(10)"
   ]
  },
  {
   "cell_type": "code",
   "execution_count": 5,
   "metadata": {
    "collapsed": false
   },
   "outputs": [
    {
     "data": {
      "text/plain": [
       "-22"
      ]
     },
     "execution_count": 5,
     "metadata": {},
     "output_type": "execute_result"
    }
   ],
   "source": [
    "g = lambda x, y, z: x + y ** 2 - z ** 3\n",
    "g(1, 2, 3)"
   ]
  },
  {
   "cell_type": "markdown",
   "metadata": {},
   "source": [
    "## 6. Generalized function input\n",
    "\n",
    "Sometimes you will want to define a function that has a variable number of input arguments. Python's function syntax includes two variable length input objects: `*args` and `*kwargs`. `*args` is a list of the positional arguments, and `*kwargs` is a dictionary mapping the keywords to their argument. This is the most general forma of a function definition."
   ]
  },
  {
   "cell_type": "code",
   "execution_count": null,
   "metadata": {
    "collapsed": false
   },
   "outputs": [],
   "source": [
    "def report(*args, **kwargs):\n",
    "    for i, arg in enumerate(args):\n",
    "        print('Argument ' + str(i) + ':', arg)\n",
    "    for key in kwargs:\n",
    "        print(\"Keyword\", key, \"->\", kwargs[key])\n",
    "\n",
    "report(\"TK\", 421, exceptional=False, missing=True)"
   ]
  },
  {
   "cell_type": "markdown",
   "metadata": {},
   "source": [
    "Passing arguments or dictionaries through the variable length `*args` or `*kwargs` objects is often desireable for the targets of SciPy's root finders, solvers, and minimizers."
   ]
  },
  {
   "cell_type": "markdown",
   "metadata": {},
   "source": [
    "## 7. Some function best practices\n",
    "\n",
    "1. Don't use global variables. Always explicitly pass everything in to a function that the function requires to execute.\n",
    "2. Don't pass input arguments into a function that do not get used. This principle is helpful when one needs to debug code.\n",
    "3. Don't create objects in the return line of a function. Even though it is easier and you can often write an entire function in one return line, it is much cleaner and more transparent to create all of your objects in the body of a function and only return objects that have already been created."
   ]
  },
  {
   "cell_type": "markdown",
   "metadata": {},
   "source": [
    "## References\n",
    "\n",
    "* [Python labs](http://www.acme.byu.edu/?page_id=2067), Applied and Computational Mathematics Emphasis (ACME), Brigham Young University."
   ]
  }
 ],
 "metadata": {
  "anaconda-cloud": {},
  "kernelspec": {
   "display_name": "Python [Root]",
   "language": "python",
   "name": "Python [Root]"
  },
  "language_info": {
   "codemirror_mode": {
    "name": "ipython",
    "version": 3
   },
   "file_extension": ".py",
   "mimetype": "text/x-python",
   "name": "python",
   "nbconvert_exporter": "python",
   "pygments_lexer": "ipython3",
   "version": "3.5.2"
  }
 },
 "nbformat": 4,
 "nbformat_minor": 0
}
